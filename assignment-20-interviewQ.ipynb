{
 "cells": [
  {
   "cell_type": "markdown",
   "id": "b7eb75ab",
   "metadata": {},
   "source": [
    "# Datatypes"
   ]
  },
  {
   "cell_type": "markdown",
   "id": "0f0e7342",
   "metadata": {},
   "source": [
    "1.what is data type?"
   ]
  },
  {
   "cell_type": "markdown",
   "id": "44a8dddf",
   "metadata": {},
   "source": [
    "\n",
    "ans:A data type, in programming, is a classification that specifies which type of value a variable has and what type of mathematical, relational or logical operations can be applied to it without causing an error"
   ]
  },
  {
   "cell_type": "markdown",
   "id": "38207be7",
   "metadata": {},
   "source": [
    "2.Name four of the main data types in Python"
   ]
  },
  {
   "cell_type": "markdown",
   "id": "a8f62681",
   "metadata": {},
   "source": [
    "ans:Numbers, strings, lists, dictionaries, tuples, files, and sets are generally considered the main types of data. Types, None, and Booleans are sometimes also classified this way."
   ]
  },
  {
   "cell_type": "markdown",
   "id": "eaa4a39d",
   "metadata": {},
   "source": [
    "3.What does immutable data types"
   ]
  },
  {
   "cell_type": "markdown",
   "id": "d71e0014",
   "metadata": {},
   "source": [
    "ans:An immutable data type is a type of object which cannot be modified after its creation. Numbers, strings, and tuples in Python fall into this category."
   ]
  },
  {
   "cell_type": "markdown",
   "id": "2b56b28c",
   "metadata": {},
   "source": [
    "4.What does sequence mean and which three types of data fall into this category?"
   ]
  },
  {
   "cell_type": "markdown",
   "id": "8b6f4ae4",
   "metadata": {},
   "source": [
    "ans:A sequence data type is a collection of objects ordered by a specific position. In Python, Strings, lists, and tuples are the data types based on sequences. The Sequences share common sequence operations, such as indexing, concatenation, and slicing, but also have type-specific method calls."
   ]
  },
  {
   "cell_type": "markdown",
   "id": "76d4b9f1",
   "metadata": {},
   "source": [
    "# operators"
   ]
  },
  {
   "cell_type": "markdown",
   "id": "0fba1bd2",
   "metadata": {},
   "source": [
    "5.Are there operators in Python other than arithmetic and logical operators?"
   ]
  },
  {
   "cell_type": "markdown",
   "id": "ec9b1499",
   "metadata": {},
   "source": [
    "ans:Yes, there are operators in Python other than arithmetic and logical ones. The others are comparison, identity, membership, and assignment operators. Each type of operators contains multiple operators. "
   ]
  },
  {
   "cell_type": "markdown",
   "id": "b15ea132",
   "metadata": {},
   "source": [
    "6.what is comparison operator?"
   ]
  },
  {
   "cell_type": "markdown",
   "id": "cc27ae2c",
   "metadata": {},
   "source": [
    "ans:These operators are used for the comparison between two values"
   ]
  },
  {
   "cell_type": "markdown",
   "id": "f39bd1b1",
   "metadata": {},
   "source": [
    "7.what is membership operators?"
   ]
  },
  {
   "cell_type": "markdown",
   "id": "0155cc84",
   "metadata": {},
   "source": [
    "ans:These operators are used to check the membership of a variable in a sequence like lists, strings, etc.\n",
    "eg--[in,not in]"
   ]
  },
  {
   "cell_type": "markdown",
   "id": "0538c7f8",
   "metadata": {},
   "source": [
    "8.what is Assignment Operators?"
   ]
  },
  {
   "cell_type": "markdown",
   "id": "40d4a3c6",
   "metadata": {},
   "source": [
    "ans:These operators are used to assign a value to a variable. The main assignment operator is =. It can be used with the arithmetic operators."
   ]
  },
  {
   "cell_type": "markdown",
   "id": "6d60aaa0",
   "metadata": {},
   "source": [
    "# conditional statement"
   ]
  },
  {
   "cell_type": "markdown",
   "id": "518127b3",
   "metadata": {},
   "source": [
    "9.what is pass statement?"
   ]
  },
  {
   "cell_type": "markdown",
   "id": "bed6f419",
   "metadata": {},
   "source": [
    "ans:Pass means, no-operation Python statement, or in other words it is a place holder in compound statement, where there should be a blank left and nothing has to be written there"
   ]
  },
  {
   "cell_type": "markdown",
   "id": "8a4f0b57",
   "metadata": {},
   "source": [
    "10.what does the continue Do in python?"
   ]
  },
  {
   "cell_type": "markdown",
   "id": "0f248dca",
   "metadata": {},
   "source": [
    "ans:The continue is a jump statement in Python which moves the control to execute the next iteration in a loop leaving all the remaining instructions in the block unexecuted.\n",
    " \n",
    "The continue statement is applicable for both the “while” and “for” loops.\n"
   ]
  },
  {
   "cell_type": "markdown",
   "id": "55fa7ad1",
   "metadata": {},
   "source": [
    "11.what should you use the \"BREAK\" in python?"
   ]
  },
  {
   "cell_type": "markdown",
   "id": "e9815e8e",
   "metadata": {},
   "source": [
    "ans:Python provides a break statement to exit from a loop. Whenever the break hits in the code, the control of the program immediately exits from the body of the loop.\n",
    " \n",
    "The break statement in a nested loop causes the control to exit from the inner iterative block"
   ]
  },
  {
   "cell_type": "markdown",
   "id": "c7355f26",
   "metadata": {},
   "source": [
    "12.what is the difference between pass and continue in python?"
   ]
  },
  {
   "cell_type": "markdown",
   "id": "4ae328c2",
   "metadata": {},
   "source": [
    "ans:The continue statement makes the loop to resume from the next iteration.\n",
    " \n",
    "On the contrary, the pass statement instructs to do nothing, and the remainder of the code executes as usual."
   ]
  },
  {
   "cell_type": "markdown",
   "id": "f22a80aa",
   "metadata": {},
   "source": [
    "# looping statement"
   ]
  },
  {
   "cell_type": "markdown",
   "id": "20183764",
   "metadata": {},
   "source": [
    "13.what is a built in function that python uses to iterate over a number sequences?"
   ]
  },
  {
   "cell_type": "markdown",
   "id": "f96c46c5",
   "metadata": {},
   "source": [
    "ans:Range() generates a list of numbers, which is used to iterate over for loops.\n",
    "\n",
    "The range() function accompanies two sets of parameters."
   ]
  },
  {
   "cell_type": "markdown",
   "id": "f551a840",
   "metadata": {},
   "source": [
    "14.what is use of for loop ?"
   ]
  },
  {
   "cell_type": "markdown",
   "id": "401e1bb3",
   "metadata": {},
   "source": [
    "ans:For loop is generally used to iterate through the elements of various collection types such as List, Tuple, Set, and Dictionary"
   ]
  },
  {
   "cell_type": "markdown",
   "id": "d1ef495c",
   "metadata": {},
   "source": [
    "15.What are the 3 types of loops in Python?"
   ]
  },
  {
   "cell_type": "markdown",
   "id": "2e0b26af",
   "metadata": {},
   "source": [
    "Type of Loops\n",
    "For Loop. A for loop in Python is used to iterate over a sequence (list, tuple, set, dictionary, and string). Flowchart: ...\n",
    "While Loop. The while loop is used to execute a set of statements as long as a condition is true. ...\n",
    "Nested Loop. If a loop exists inside the body of another loop, it is called a nested loop"
   ]
  },
  {
   "cell_type": "markdown",
   "id": "2e963e85",
   "metadata": {},
   "source": [
    "16.Which statement is looping statement in Python?"
   ]
  },
  {
   "cell_type": "markdown",
   "id": "1b7aad92",
   "metadata": {},
   "source": [
    "ans:In python, a while loop is used to execute a block of statements repeatedly until a given condition is satisfied"
   ]
  },
  {
   "cell_type": "markdown",
   "id": "1efc0f39",
   "metadata": {},
   "source": [
    "# Functions"
   ]
  },
  {
   "cell_type": "markdown",
   "id": "7082fc59",
   "metadata": {},
   "source": [
    "17.what is a function in python programming?"
   ]
  },
  {
   "cell_type": "markdown",
   "id": "9599d825",
   "metadata": {},
   "source": [
    "ans: A function is an object which represents a block of code and is a reusable entity. It brings modularity to a program and a higher degree of code reusability."
   ]
  },
  {
   "cell_type": "markdown",
   "id": "435c26e2",
   "metadata": {},
   "source": [
    "18.what is the return keyword used for in python?"
   ]
  },
  {
   "cell_type": "markdown",
   "id": "e6f479ff",
   "metadata": {},
   "source": [
    "ans:The purpose of a function is to receive the inputs and return some output.\n",
    "\n",
    "The return is a Python statement which we can use in a function for sending a value back to its caller."
   ]
  },
  {
   "cell_type": "markdown",
   "id": "08e018e6",
   "metadata": {},
   "source": [
    "19.is it mandatory for a python function to return a value?"
   ]
  },
  {
   "cell_type": "markdown",
   "id": "7c72e0ef",
   "metadata": {},
   "source": [
    "ans: It is not at all necessary for a function to return any value. However, if needed, we can use None as a return value."
   ]
  },
  {
   "cell_type": "markdown",
   "id": "32441279",
   "metadata": {},
   "source": [
    "20.what is *args?"
   ]
  },
  {
   "cell_type": "markdown",
   "id": "bcaf6d21",
   "metadata": {},
   "source": [
    "ans:*args is used when the programmer is not sure about how many arguments are going to be passed to a function, or if the programmer is expecting a list or a tuple as argument to the function"
   ]
  },
  {
   "cell_type": "code",
   "execution_count": null,
   "id": "136d3dd1",
   "metadata": {},
   "outputs": [],
   "source": []
  }
 ],
 "metadata": {
  "kernelspec": {
   "display_name": "Python 3 (ipykernel)",
   "language": "python",
   "name": "python3"
  },
  "language_info": {
   "codemirror_mode": {
    "name": "ipython",
    "version": 3
   },
   "file_extension": ".py",
   "mimetype": "text/x-python",
   "name": "python",
   "nbconvert_exporter": "python",
   "pygments_lexer": "ipython3",
   "version": "3.9.12"
  }
 },
 "nbformat": 4,
 "nbformat_minor": 5
}
